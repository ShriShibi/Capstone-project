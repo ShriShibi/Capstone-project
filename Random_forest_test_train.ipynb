{
  "nbformat": 4,
  "nbformat_minor": 0,
  "metadata": {
    "colab": {
      "name": "Random forest test train.ipynb",
      "provenance": [],
      "collapsed_sections": []
    },
    "kernelspec": {
      "name": "python3",
      "display_name": "Python 3"
    },
    "language_info": {
      "name": "python"
    },
    "accelerator": "GPU",
    "gpuClass": "standard"
  },
  "cells": [
    {
      "cell_type": "code",
      "execution_count": null,
      "metadata": {
        "id": "NRdYjCNpI_6x"
      },
      "outputs": [],
      "source": [
        "from tensorflow.keras.datasets import mnist\n",
        "import tensorflow as tf\n",
        "import matplotlib.pyplot as plt \n",
        "from tensorflow.keras.utils import to_categorical\n",
        "from tensorflow.keras.models import Sequential\n",
        "from tensorflow.keras.layers import Dense\n",
        "from tensorflow.keras.preprocessing.image import load_img, img_to_array, smart_resize\n",
        "import matplotlib.pyplot as plt\n",
        "from pathlib import Path\n",
        "import numpy as np\n",
        "from sklearn.model_selection import train_test_split"
      ]
    },
    {
      "cell_type": "code",
      "source": [
        "from google.colab import drive\n",
        "\n",
        "drive.mount('/content/drive')"
      ],
      "metadata": {
        "colab": {
          "base_uri": "https://localhost:8080/"
        },
        "id": "t6jLAPLdLR_3",
        "outputId": "ef13b2e5-18dd-4814-9a55-694eada13652"
      },
      "execution_count": null,
      "outputs": [
        {
          "output_type": "stream",
          "name": "stdout",
          "text": [
            "Mounted at /content/drive\n"
          ]
        }
      ]
    },
    {
      "cell_type": "code",
      "source": [
        "p = Path().cwd()\n",
        "print(p)\n",
        "q = p/'drive'/'MyDrive'/'Colab Notebooks'/'waste1' # use p to create a path to the data \n",
        "print(q)\n",
        "target_dict = dict([(\"Dump\", 0),(\"Inter\",1),(\"Loaded\",2),(\"Unloaded\",3)]) # create dictionary mapping Lego block type to integer label \n",
        "images = [] # create an empty list\n",
        "labels = [] # create an empty list"
      ],
      "metadata": {
        "colab": {
          "base_uri": "https://localhost:8080/"
        },
        "id": "NtpDFMJuLVIE",
        "outputId": "a746fa25-6f0b-436e-e18c-c43ebad424da"
      },
      "execution_count": null,
      "outputs": [
        {
          "output_type": "stream",
          "name": "stdout",
          "text": [
            "/content\n",
            "/content/drive/MyDrive/Colab Notebooks/waste1\n"
          ]
        }
      ]
    },
    {
      "cell_type": "code",
      "source": [
        "for fldr in q.iterdir(): \n",
        "  print(fldr.name)\n",
        "  current_label = fldr.name\n",
        "  for img in fldr.iterdir():\n",
        "    img = load_img(img)\n",
        "    img_array = img_to_array(img)\n",
        "    size = (180,320)\n",
        "    img_array_resized = smart_resize(img_array,size)\n",
        "    images.append(img_array_resized)\n",
        "    labels.append(current_label)\n",
        "\n",
        "images = np.array(images) \n",
        "labels = np.array(labels)"
      ],
      "metadata": {
        "colab": {
          "base_uri": "https://localhost:8080/"
        },
        "id": "u6dy4q3KSvYd",
        "outputId": "dd05b937-0e60-4d41-cf3a-74003a6982f3"
      },
      "execution_count": null,
      "outputs": [
        {
          "output_type": "stream",
          "name": "stdout",
          "text": [
            "Dump\n",
            "Unloaded\n",
            "Inter\n",
            "Loaded\n"
          ]
        }
      ]
    },
    {
      "cell_type": "code",
      "source": [
        "labels_int = [] # use the target_dict to convert the string labels to an array of integers\n",
        "print(target_dict)\n",
        "for i in labels:\n",
        "      n_key = target_dict[i]\n",
        "      labels_int.append(n_key)\n",
        "print(labels_int)\n",
        "labels_int = np.array(labels_int)"
      ],
      "metadata": {
        "id": "DQNL2SXZS08B",
        "colab": {
          "base_uri": "https://localhost:8080/"
        },
        "outputId": "8f226315-a521-4c46-e347-92722a8c813e"
      },
      "execution_count": null,
      "outputs": [
        {
          "output_type": "stream",
          "name": "stdout",
          "text": [
            "{'Dump': 0, 'Inter': 1, 'Loaded': 2, 'Unloaded': 3}\n",
            "[0, 0, 0, 0, 0, 0, 0, 0, 0, 0, 0, 0, 0, 0, 0, 0, 0, 0, 0, 0, 0, 0, 0, 0, 0, 0, 0, 0, 0, 0, 0, 0, 0, 0, 0, 0, 0, 0, 0, 0, 0, 0, 0, 0, 0, 0, 0, 0, 0, 0, 0, 0, 0, 0, 0, 0, 0, 0, 0, 0, 0, 0, 0, 0, 0, 0, 0, 0, 0, 0, 0, 0, 0, 0, 0, 0, 0, 0, 0, 0, 0, 0, 0, 0, 0, 0, 0, 0, 0, 0, 0, 0, 0, 0, 0, 0, 0, 0, 0, 0, 0, 0, 0, 0, 0, 0, 0, 0, 0, 0, 0, 0, 0, 0, 0, 0, 0, 0, 0, 0, 0, 0, 0, 0, 0, 0, 0, 0, 0, 0, 0, 0, 0, 0, 0, 0, 0, 0, 0, 0, 0, 0, 0, 0, 0, 0, 0, 0, 0, 0, 0, 0, 0, 0, 0, 0, 0, 0, 0, 0, 0, 0, 0, 0, 0, 0, 0, 0, 0, 0, 0, 0, 0, 0, 0, 0, 0, 0, 0, 0, 0, 0, 0, 0, 0, 0, 0, 0, 0, 0, 0, 0, 0, 0, 0, 0, 0, 0, 0, 0, 0, 0, 0, 0, 0, 0, 0, 3, 3, 3, 3, 3, 3, 3, 3, 3, 3, 3, 3, 3, 3, 3, 3, 3, 3, 3, 3, 3, 3, 3, 3, 3, 3, 3, 3, 3, 3, 3, 3, 3, 3, 3, 3, 3, 3, 3, 3, 3, 3, 3, 3, 3, 3, 3, 3, 3, 3, 3, 3, 3, 3, 3, 3, 3, 3, 3, 3, 3, 3, 3, 3, 3, 3, 3, 3, 3, 3, 3, 3, 3, 3, 3, 3, 3, 3, 3, 3, 3, 3, 3, 3, 3, 3, 3, 3, 3, 3, 3, 3, 3, 3, 3, 3, 3, 3, 3, 3, 3, 3, 3, 3, 3, 3, 3, 3, 3, 3, 3, 3, 3, 3, 3, 3, 3, 3, 3, 3, 3, 3, 3, 3, 3, 3, 3, 3, 3, 3, 3, 3, 3, 3, 3, 3, 3, 3, 3, 3, 3, 3, 3, 3, 3, 3, 3, 3, 3, 3, 3, 3, 3, 3, 3, 3, 3, 3, 3, 3, 3, 3, 3, 3, 3, 3, 3, 3, 3, 3, 3, 3, 3, 3, 3, 3, 3, 3, 3, 3, 3, 3, 3, 3, 1, 1, 1, 1, 1, 1, 1, 1, 1, 1, 1, 1, 1, 1, 1, 1, 1, 1, 1, 1, 1, 1, 1, 1, 1, 1, 1, 1, 1, 1, 1, 1, 1, 1, 1, 1, 1, 1, 1, 1, 1, 1, 1, 1, 1, 1, 1, 1, 1, 1, 1, 1, 1, 1, 1, 1, 1, 1, 1, 1, 1, 1, 1, 1, 1, 1, 1, 1, 1, 1, 1, 1, 1, 1, 1, 1, 1, 1, 1, 1, 1, 1, 1, 1, 1, 1, 1, 1, 1, 1, 1, 1, 1, 1, 1, 1, 1, 1, 1, 1, 1, 1, 1, 1, 1, 1, 1, 1, 1, 1, 1, 1, 1, 1, 1, 1, 1, 1, 1, 1, 1, 1, 1, 1, 1, 1, 1, 1, 1, 1, 1, 1, 1, 1, 1, 1, 1, 1, 1, 1, 1, 1, 1, 1, 1, 1, 1, 1, 1, 1, 1, 1, 1, 1, 1, 1, 1, 1, 1, 1, 1, 1, 1, 1, 1, 1, 1, 1, 1, 1, 1, 1, 1, 1, 1, 1, 1, 1, 1, 1, 1, 1, 1, 1, 1, 1, 1, 1, 1, 1, 1, 1, 1, 1, 1, 1, 1, 1, 1, 1, 1, 1, 1, 1, 1, 1, 2, 2, 2, 2, 2, 2, 2, 2, 2, 2, 2, 2, 2, 2, 2, 2, 2, 2, 2, 2, 2, 2, 2, 2, 2, 2, 2, 2, 2, 2, 2, 2, 2, 2, 2, 2, 2, 2, 2, 2, 2, 2, 2, 2, 2, 2, 2, 2, 2, 2, 2, 2, 2, 2, 2, 2, 2, 2, 2, 2, 2, 2, 2, 2, 2, 2, 2, 2, 2, 2, 2, 2, 2, 2, 2, 2, 2, 2, 2, 2, 2, 2, 2, 2, 2, 2, 2, 2, 2, 2, 2, 2, 2, 2, 2, 2, 2, 2, 2, 2, 2, 2, 2, 2, 2, 2, 2, 2, 2, 2, 2, 2, 2, 2, 2, 2, 2, 2, 2, 2, 2, 2, 2, 2, 2, 2, 2, 2, 2, 2, 2, 2, 2, 2, 2, 2, 2, 2, 2, 2, 2, 2, 2, 2, 2, 2, 2, 2, 2, 2, 2, 2, 2, 2, 2, 2, 2, 2, 2, 2, 2, 2, 2, 2, 2, 2, 2, 2, 2, 2, 2, 2, 2, 2, 2, 2, 2, 2, 2, 2, 2, 2, 2, 2, 2, 2, 2, 2, 2, 2, 2, 2, 2, 2, 2, 2, 2, 2, 2, 2, 2, 2, 2, 2, 2, 2]\n"
          ]
        }
      ]
    },
    {
      "cell_type": "code",
      "source": [
        "X_train, X_test, y_train, y_test = train_test_split(images, labels_int, test_size=0.2, random_state=1)\n"
      ],
      "metadata": {
        "id": "Iv_Z3ctAUQVK"
      },
      "execution_count": null,
      "outputs": []
    },
    {
      "cell_type": "code",
      "source": [
        "X_train.shape"
      ],
      "metadata": {
        "colab": {
          "base_uri": "https://localhost:8080/"
        },
        "id": "ZNOjaBeNC4sF",
        "outputId": "339827d5-584c-415f-fcf2-ebe26a1ff3fc"
      },
      "execution_count": null,
      "outputs": [
        {
          "output_type": "execute_result",
          "data": {
            "text/plain": [
              "(642, 180, 320, 3)"
            ]
          },
          "metadata": {},
          "execution_count": 10
        }
      ]
    },
    {
      "cell_type": "code",
      "source": [
        "X_test.shape"
      ],
      "metadata": {
        "colab": {
          "base_uri": "https://localhost:8080/"
        },
        "id": "zzwTLN85C-5B",
        "outputId": "b512e13e-6c7a-4496-b2e8-d93689ee5065"
      },
      "execution_count": null,
      "outputs": [
        {
          "output_type": "execute_result",
          "data": {
            "text/plain": [
              "(161, 180, 320, 3)"
            ]
          },
          "metadata": {},
          "execution_count": 11
        }
      ]
    },
    {
      "cell_type": "code",
      "source": [
        "y_train.shape"
      ],
      "metadata": {
        "colab": {
          "base_uri": "https://localhost:8080/"
        },
        "id": "LDpCpIL0UgIB",
        "outputId": "56ce3487-8aca-4d1f-8f4c-f8bd84613e4d"
      },
      "execution_count": null,
      "outputs": [
        {
          "output_type": "execute_result",
          "data": {
            "text/plain": [
              "(642,)"
            ]
          },
          "metadata": {},
          "execution_count": 12
        }
      ]
    },
    {
      "cell_type": "code",
      "source": [
        "y_test.shape"
      ],
      "metadata": {
        "colab": {
          "base_uri": "https://localhost:8080/"
        },
        "id": "9K9-1spFUgvo",
        "outputId": "f191730d-cdc6-4a9e-b075-6fe7b858ff3d"
      },
      "execution_count": null,
      "outputs": [
        {
          "output_type": "execute_result",
          "data": {
            "text/plain": [
              "(161,)"
            ]
          },
          "metadata": {},
          "execution_count": 13
        }
      ]
    },
    {
      "cell_type": "code",
      "source": [
        "X_train =X_train.reshape(642,172800)\n",
        "X_test =X_test.reshape(161,172800)\n",
        "\n"
      ],
      "metadata": {
        "id": "A8DsMFKECFWa"
      },
      "execution_count": null,
      "outputs": []
    },
    {
      "cell_type": "code",
      "source": [
        "## HyperBuild Random Forest Model with hyperparameters"
      ],
      "metadata": {
        "id": "6AymzNUW1qrT"
      },
      "execution_count": null,
      "outputs": []
    },
    {
      "cell_type": "code",
      "source": [
        "# Number of trees in random forest\n",
        "n_estimators = [int(x) for x in np.linspace(start = 10, stop = 80, num = 10)]\n",
        "# Number of features to consider at every split\n",
        "max_features = ['auto', 'sqrt']\n",
        "# Maximum number of levels in tree\n",
        "max_depth = [2,4]\n",
        "# Minimum number of samples required to split a node\n",
        "min_samples_split = [2, 5]\n",
        "# Minimum number of samples required at each leaf node\n",
        "min_samples_leaf = [1, 2]\n",
        "# Method of selecting samples for training each tree\n",
        "bootstrap = [True, False]"
      ],
      "metadata": {
        "id": "SANeDvw11u6g"
      },
      "execution_count": null,
      "outputs": []
    },
    {
      "cell_type": "code",
      "source": [
        "# Create the param grid\n",
        "param_grid = {'n_estimators': n_estimators,\n",
        "               'max_features': max_features,\n",
        "               'max_depth': max_depth,\n",
        "               'min_samples_split': min_samples_split,\n",
        "               'min_samples_leaf': min_samples_leaf,\n",
        "               'bootstrap': bootstrap}\n",
        "print(param_grid)"
      ],
      "metadata": {
        "colab": {
          "base_uri": "https://localhost:8080/"
        },
        "id": "ntNYvgjI2AEN",
        "outputId": "8ebbb0ff-5a84-40e1-82a1-56d3007c8372"
      },
      "execution_count": null,
      "outputs": [
        {
          "output_type": "stream",
          "name": "stdout",
          "text": [
            "{'n_estimators': [10, 17, 25, 33, 41, 48, 56, 64, 72, 80], 'max_features': ['auto', 'sqrt'], 'max_depth': [2, 4], 'min_samples_split': [2, 5], 'min_samples_leaf': [1, 2], 'bootstrap': [True, False]}\n"
          ]
        }
      ]
    },
    {
      "cell_type": "code",
      "source": [
        "rf_Model = RandomForestClassifier()"
      ],
      "metadata": {
        "id": "b7NtbnWZ2AHx"
      },
      "execution_count": null,
      "outputs": []
    },
    {
      "cell_type": "code",
      "source": [
        "from sklearn.model_selection import GridSearchCV\n",
        "rf_Grid = GridSearchCV(estimator = rf_Model, param_grid = param_grid, cv = 3, verbose=2, n_jobs = 4)"
      ],
      "metadata": {
        "id": "IYaUAWmp2ANf"
      },
      "execution_count": null,
      "outputs": []
    },
    {
      "cell_type": "code",
      "source": [
        "rf_Grid.fit(X_train, y_train)\n"
      ],
      "metadata": {
        "colab": {
          "base_uri": "https://localhost:8080/"
        },
        "id": "m5zwBzcT2PPI",
        "outputId": "20ed9f90-4cc4-4d05-ee82-1677b380ef6d"
      },
      "execution_count": null,
      "outputs": [
        {
          "output_type": "stream",
          "name": "stdout",
          "text": [
            "Fitting 3 folds for each of 320 candidates, totalling 960 fits\n"
          ]
        },
        {
          "output_type": "execute_result",
          "data": {
            "text/plain": [
              "GridSearchCV(cv=3, estimator=RandomForestClassifier(), n_jobs=4,\n",
              "             param_grid={'bootstrap': [True, False], 'max_depth': [2, 4],\n",
              "                         'max_features': ['auto', 'sqrt'],\n",
              "                         'min_samples_leaf': [1, 2],\n",
              "                         'min_samples_split': [2, 5],\n",
              "                         'n_estimators': [10, 17, 25, 33, 41, 48, 56, 64, 72,\n",
              "                                          80]},\n",
              "             verbose=2)"
            ]
          },
          "metadata": {},
          "execution_count": 33
        }
      ]
    },
    {
      "cell_type": "code",
      "source": [
        "rf_Grid.best_params_"
      ],
      "metadata": {
        "colab": {
          "base_uri": "https://localhost:8080/"
        },
        "id": "O1LmjDDU2PRJ",
        "outputId": "fa030ab7-3354-4a6e-ea85-38491fee7f4a"
      },
      "execution_count": null,
      "outputs": [
        {
          "output_type": "execute_result",
          "data": {
            "text/plain": [
              "{'bootstrap': True,\n",
              " 'max_depth': 4,\n",
              " 'max_features': 'auto',\n",
              " 'min_samples_leaf': 1,\n",
              " 'min_samples_split': 5,\n",
              " 'n_estimators': 56}"
            ]
          },
          "metadata": {},
          "execution_count": 34
        }
      ]
    },
    {
      "cell_type": "code",
      "source": [
        "print (f'Train Accuracy - : {rf_Grid.score(X_train,y_train):.3f}')\n",
        "print (f'Test Accuracy - : {rf_Grid.score(X_test,y_test):.3f}')"
      ],
      "metadata": {
        "colab": {
          "base_uri": "https://localhost:8080/"
        },
        "id": "ZL-X8w0G2PTO",
        "outputId": "ab292a7a-6bca-4b97-87c3-2ff08203c97d"
      },
      "execution_count": null,
      "outputs": [
        {
          "output_type": "stream",
          "name": "stdout",
          "text": [
            "Train Accuracy - : 0.941\n",
            "Test Accuracy - : 0.938\n"
          ]
        }
      ]
    },
    {
      "cell_type": "code",
      "source": [
        ""
      ],
      "metadata": {
        "id": "lvCQeqYq2PWn"
      },
      "execution_count": null,
      "outputs": []
    },
    {
      "cell_type": "code",
      "source": [
        ""
      ],
      "metadata": {
        "id": "xdlzRFxx2V44"
      },
      "execution_count": null,
      "outputs": []
    },
    {
      "cell_type": "code",
      "source": [
        ""
      ],
      "metadata": {
        "id": "R57mt21l2V7D"
      },
      "execution_count": null,
      "outputs": []
    },
    {
      "cell_type": "code",
      "source": [
        ""
      ],
      "metadata": {
        "id": "hp_JAQi12V-c"
      },
      "execution_count": null,
      "outputs": []
    },
    {
      "cell_type": "code",
      "source": [
        "from math import sqrt\n",
        "from sklearn.ensemble import RandomForestClassifier\n",
        "\n",
        "model=RandomForestClassifier(n_estimators=56,bootstrap=True,max_depth=4,max_features='auto',min_samples_leaf=1,min_samples_split=5 )\n",
        "\n",
        "model.fit(X_train,y_train)\n"
      ],
      "metadata": {
        "colab": {
          "base_uri": "https://localhost:8080/"
        },
        "id": "6Z4_b4pbDKpZ",
        "outputId": "1ead845d-10b8-47dc-8c22-f36f7430e135"
      },
      "execution_count": null,
      "outputs": [
        {
          "output_type": "execute_result",
          "data": {
            "text/plain": [
              "RandomForestClassifier(max_depth=4, min_samples_split=5, n_estimators=56)"
            ]
          },
          "metadata": {},
          "execution_count": 36
        }
      ]
    },
    {
      "cell_type": "code",
      "source": [
        "image_pred = model.predict(X_test)\n",
        "image_pred"
      ],
      "metadata": {
        "colab": {
          "base_uri": "https://localhost:8080/"
        },
        "id": "unpLhkYzDN3w",
        "outputId": "a638c8d7-906b-42b7-dd79-170b93c3d64e"
      },
      "execution_count": null,
      "outputs": [
        {
          "output_type": "execute_result",
          "data": {
            "text/plain": [
              "array([0, 2, 1, 3, 1, 3, 0, 2, 2, 2, 1, 0, 3, 2, 0, 3, 1, 2, 1, 3, 1, 3,\n",
              "       1, 0, 3, 3, 2, 0, 2, 0, 2, 0, 0, 0, 1, 0, 1, 3, 3, 1, 1, 3, 0, 2,\n",
              "       1, 0, 3, 1, 3, 2, 2, 0, 1, 2, 0, 2, 3, 1, 3, 1, 3, 3, 1, 0, 1, 3,\n",
              "       0, 2, 1, 2, 1, 2, 3, 1, 0, 3, 2, 1, 2, 0, 0, 0, 3, 0, 3, 0, 1, 0,\n",
              "       3, 0, 0, 0, 1, 0, 3, 3, 1, 3, 3, 0, 2, 0, 2, 2, 3, 3, 0, 1, 1, 2,\n",
              "       2, 0, 1, 3, 0, 2, 3, 2, 0, 0, 2, 0, 2, 1, 0, 1, 1, 0, 2, 1, 2, 2,\n",
              "       0, 3, 1, 3, 0, 0, 0, 3, 0, 1, 0, 2, 0, 2, 3, 3, 3, 1, 1, 2, 1, 1,\n",
              "       0, 1, 0, 3, 2, 0, 2])"
            ]
          },
          "metadata": {},
          "execution_count": 37
        }
      ]
    },
    {
      "cell_type": "code",
      "source": [
        "trainpred = model.predict(X_train)\n",
        "trainpred"
      ],
      "metadata": {
        "colab": {
          "base_uri": "https://localhost:8080/"
        },
        "id": "o19AIf7QVeZ5",
        "outputId": "517d867e-35f0-4f55-c085-c85c96cfeb05"
      },
      "execution_count": null,
      "outputs": [
        {
          "output_type": "execute_result",
          "data": {
            "text/plain": [
              "array([3, 1, 2, 0, 2, 1, 2, 0, 2, 1, 0, 2, 1, 0, 2, 3, 0, 2, 0, 0, 1, 0,\n",
              "       2, 0, 1, 3, 3, 2, 0, 1, 3, 2, 1, 0, 0, 0, 2, 2, 3, 3, 2, 2, 2, 0,\n",
              "       0, 0, 3, 3, 1, 3, 2, 3, 0, 0, 2, 1, 0, 0, 0, 0, 1, 0, 2, 0, 0, 1,\n",
              "       0, 2, 3, 0, 0, 3, 3, 2, 2, 0, 2, 1, 0, 1, 0, 0, 1, 2, 1, 2, 0, 0,\n",
              "       0, 3, 0, 2, 3, 0, 2, 1, 0, 3, 2, 1, 0, 3, 1, 0, 2, 3, 2, 3, 0, 2,\n",
              "       3, 0, 2, 3, 1, 3, 2, 0, 2, 0, 1, 1, 3, 3, 2, 1, 0, 0, 1, 0, 0, 2,\n",
              "       2, 2, 0, 0, 3, 2, 1, 0, 1, 1, 2, 1, 1, 0, 0, 0, 1, 3, 3, 0, 1, 1,\n",
              "       2, 0, 0, 3, 3, 1, 0, 0, 2, 2, 0, 3, 3, 1, 1, 0, 2, 2, 3, 0, 0, 0,\n",
              "       0, 0, 0, 3, 2, 3, 3, 1, 0, 2, 2, 3, 1, 0, 2, 3, 2, 0, 2, 3, 2, 1,\n",
              "       0, 0, 1, 1, 2, 3, 2, 3, 0, 1, 3, 0, 2, 0, 0, 3, 2, 1, 0, 1, 0, 2,\n",
              "       2, 2, 3, 2, 2, 2, 0, 3, 2, 1, 2, 0, 1, 2, 0, 0, 1, 3, 2, 1, 3, 2,\n",
              "       2, 0, 0, 0, 1, 1, 0, 0, 2, 0, 3, 0, 3, 0, 2, 3, 0, 1, 1, 3, 1, 0,\n",
              "       2, 0, 0, 3, 2, 3, 2, 1, 3, 0, 2, 3, 2, 2, 0, 2, 3, 0, 0, 2, 0, 3,\n",
              "       3, 0, 2, 1, 3, 0, 0, 3, 3, 3, 0, 1, 3, 2, 2, 3, 3, 2, 2, 2, 3, 0,\n",
              "       3, 3, 3, 1, 3, 2, 2, 0, 0, 0, 2, 0, 0, 0, 1, 3, 0, 0, 3, 3, 3, 3,\n",
              "       3, 1, 2, 2, 1, 3, 2, 3, 2, 0, 2, 1, 2, 0, 2, 2, 2, 2, 3, 0, 2, 3,\n",
              "       0, 1, 2, 1, 0, 2, 0, 1, 3, 1, 0, 1, 2, 1, 2, 1, 3, 3, 1, 2, 1, 2,\n",
              "       0, 2, 2, 1, 0, 1, 2, 3, 1, 0, 3, 0, 1, 3, 1, 2, 0, 0, 0, 3, 2, 3,\n",
              "       3, 0, 3, 2, 3, 3, 3, 1, 1, 0, 0, 0, 0, 0, 0, 3, 2, 2, 1, 0, 2, 2,\n",
              "       3, 2, 0, 3, 1, 2, 0, 3, 2, 2, 3, 0, 0, 3, 0, 0, 0, 3, 0, 1, 2, 1,\n",
              "       1, 0, 0, 0, 3, 3, 0, 3, 0, 2, 2, 0, 2, 2, 1, 1, 1, 0, 1, 3, 2, 3,\n",
              "       1, 2, 3, 1, 1, 1, 2, 3, 2, 3, 2, 3, 0, 1, 3, 0, 1, 0, 1, 2, 3, 2,\n",
              "       2, 2, 0, 2, 3, 1, 1, 3, 0, 2, 2, 2, 2, 0, 3, 2, 0, 0, 1, 2, 1, 0,\n",
              "       3, 0, 0, 2, 3, 2, 0, 0, 3, 2, 1, 1, 2, 0, 0, 1, 2, 0, 1, 2, 0, 3,\n",
              "       0, 3, 2, 1, 1, 2, 3, 2, 3, 0, 0, 3, 0, 2, 0, 2, 0, 1, 1, 3, 3, 3,\n",
              "       2, 0, 3, 0, 1, 3, 3, 0, 2, 2, 1, 3, 2, 0, 1, 2, 0, 3, 3, 3, 0, 2,\n",
              "       0, 2, 2, 3, 0, 3, 0, 0, 0, 0, 1, 3, 2, 3, 0, 1, 0, 0, 0, 2, 1, 1,\n",
              "       3, 0, 1, 1, 2, 1, 2, 2, 2, 3, 3, 3, 0, 3, 1, 3, 0, 1, 0, 0, 0, 0,\n",
              "       2, 3, 1, 1, 1, 2, 0, 3, 0, 3, 3, 3, 0, 3, 3, 0, 2, 1, 0, 0, 2, 2,\n",
              "       2, 0, 3, 0])"
            ]
          },
          "metadata": {},
          "execution_count": 38
        }
      ]
    },
    {
      "cell_type": "code",
      "source": [
        "from sklearn.metrics import accuracy_score,confusion_matrix,classification_report\n",
        "\n",
        "\n",
        "accuracy_score(image_pred,y_test)\n",
        "print(classification_report(image_pred,y_test))"
      ],
      "metadata": {
        "colab": {
          "base_uri": "https://localhost:8080/"
        },
        "id": "wcmhLT4VDdqq",
        "outputId": "6c60110c-fc0f-403c-dc1b-2f1c0cb6ccd4"
      },
      "execution_count": null,
      "outputs": [
        {
          "output_type": "stream",
          "name": "stdout",
          "text": [
            "              precision    recall  f1-score   support\n",
            "\n",
            "           0       1.00      0.79      0.88        48\n",
            "           1       0.78      0.97      0.86        39\n",
            "           2       0.97      1.00      0.99        36\n",
            "           3       1.00      0.97      0.99        38\n",
            "\n",
            "    accuracy                           0.93       161\n",
            "   macro avg       0.94      0.93      0.93       161\n",
            "weighted avg       0.94      0.93      0.93       161\n",
            "\n"
          ]
        }
      ]
    },
    {
      "cell_type": "code",
      "source": [
        "accuracy_score(trainpred,y_train)\n",
        "print(classification_report(trainpred,y_train))"
      ],
      "metadata": {
        "colab": {
          "base_uri": "https://localhost:8080/"
        },
        "id": "22ghOIfAVpQH",
        "outputId": "f82b910d-c35e-48cf-bdab-6d709cf7f1e6"
      },
      "execution_count": null,
      "outputs": [
        {
          "output_type": "stream",
          "name": "stdout",
          "text": [
            "              precision    recall  f1-score   support\n",
            "\n",
            "           0       0.99      0.83      0.90       203\n",
            "           1       0.76      0.99      0.86       120\n",
            "           2       1.00      1.00      1.00       169\n",
            "           3       1.00      0.98      0.99       150\n",
            "\n",
            "    accuracy                           0.94       642\n",
            "   macro avg       0.94      0.95      0.94       642\n",
            "weighted avg       0.95      0.94      0.94       642\n",
            "\n"
          ]
        }
      ]
    },
    {
      "cell_type": "code",
      "source": [
        ""
      ],
      "metadata": {
        "id": "jewwFlWUDuaF"
      },
      "execution_count": null,
      "outputs": []
    },
    {
      "cell_type": "code",
      "source": [
        ""
      ],
      "metadata": {
        "id": "uNTvWKfiEIZV"
      },
      "execution_count": null,
      "outputs": []
    },
    {
      "cell_type": "code",
      "source": [
        ""
      ],
      "metadata": {
        "id": "mVJ0vVh-zS5h"
      },
      "execution_count": null,
      "outputs": []
    },
    {
      "cell_type": "code",
      "source": [
        ""
      ],
      "metadata": {
        "id": "2JYdYSQmzS7r"
      },
      "execution_count": null,
      "outputs": []
    },
    {
      "cell_type": "code",
      "source": [
        ""
      ],
      "metadata": {
        "id": "LpugLflNzS9n"
      },
      "execution_count": null,
      "outputs": []
    },
    {
      "cell_type": "code",
      "source": [
        ""
      ],
      "metadata": {
        "id": "CnJcmRjvzTBI"
      },
      "execution_count": null,
      "outputs": []
    },
    {
      "cell_type": "code",
      "source": [
        "p = Path().cwd()\n",
        "print(p)\n",
        "q = p/'drive'/'MyDrive'/'Colab Notebooks'/'test' # use p to create a path to the data \n",
        "print(q)\n",
        "target_dict = dict([(\"Drop off\", 0),(\"Pick up\",1),(\"Dump\",2)]) # create dictionary mapping Lego block type to integer label \n",
        "images = [] # create an empty list\n",
        "labels = [] # create an empty list"
      ],
      "metadata": {
        "colab": {
          "base_uri": "https://localhost:8080/"
        },
        "id": "X87KlSYsEIc1",
        "outputId": "b9113872-556f-427b-c06f-7fd7e397cdf7"
      },
      "execution_count": null,
      "outputs": [
        {
          "output_type": "stream",
          "name": "stdout",
          "text": [
            "/content\n",
            "/content/drive/MyDrive/Colab Notebooks/test\n"
          ]
        }
      ]
    },
    {
      "cell_type": "code",
      "source": [
        "for fldr in q.iterdir(): \n",
        "  print(fldr.name)\n",
        "  current_label = fldr.name\n",
        "  for img in fldr.iterdir():\n",
        "    img = load_img(img)\n",
        "    img_array = img_to_array(img)\n",
        "    size = (180,320)\n",
        "    img_array_resized = smart_resize(img_array,size)\n",
        "    images.append(img_array_resized)\n",
        "    labels.append(current_label)\n",
        "\n",
        "images = np.array(images) \n",
        "labels = np.array(labels)"
      ],
      "metadata": {
        "colab": {
          "base_uri": "https://localhost:8080/"
        },
        "id": "EDbfPjryFI4h",
        "outputId": "819be295-a7b1-436c-a8c9-2d14d2704333"
      },
      "execution_count": null,
      "outputs": [
        {
          "output_type": "stream",
          "name": "stdout",
          "text": [
            "Dump\n",
            "Pick up\n",
            "Drop off\n"
          ]
        }
      ]
    },
    {
      "cell_type": "code",
      "source": [
        "labels_int = [] # use the target_dict to convert the string labels to an array of integers\n",
        "print(target_dict)\n",
        "for i in labels:\n",
        "      n_key = target_dict[i]\n",
        "      labels_int.append(n_key)\n",
        "print(labels_int)\n",
        "labels_int = np.array(labels_int)"
      ],
      "metadata": {
        "colab": {
          "base_uri": "https://localhost:8080/"
        },
        "id": "TB0z6Q8aFU9T",
        "outputId": "d901625b-c16f-4c53-f2c5-5c0e7b3ae601"
      },
      "execution_count": null,
      "outputs": [
        {
          "output_type": "stream",
          "name": "stdout",
          "text": [
            "{'Drop off': 0, 'Pick up': 1, 'Dump': 2}\n",
            "[2, 2, 2, 2, 2, 2, 2, 2, 2, 2, 2, 2, 2, 2, 2, 2, 2, 2, 2, 2, 2, 2, 2, 2, 2, 2, 2, 2, 2, 2, 2, 2, 2, 2, 2, 2, 2, 2, 2, 2, 2, 2, 2, 2, 2, 2, 2, 2, 2, 2, 2, 2, 2, 2, 2, 2, 2, 2, 2, 2, 1, 1, 1, 1, 1, 1, 1, 1, 1, 1, 1, 1, 0, 0, 0, 0, 0, 0, 0, 0, 0, 0, 0, 0, 0, 0, 0, 0, 0, 0, 0, 0, 0, 0, 0, 0, 0, 0, 0, 0, 0, 0, 0, 0, 0, 0, 0, 0, 0, 0, 0, 0, 0, 0, 0, 0, 0, 0, 0, 0, 0, 0, 0, 0, 0, 0, 0, 0, 0, 0, 0, 0, 0, 0, 0, 0, 0, 0, 0, 0, 0, 0, 0, 0, 0, 0, 0, 0, 0, 0, 0]\n"
          ]
        }
      ]
    },
    {
      "cell_type": "code",
      "source": [
        "images.shape"
      ],
      "metadata": {
        "colab": {
          "base_uri": "https://localhost:8080/"
        },
        "id": "nNAk-tNiFt1E",
        "outputId": "fae6e239-1beb-4c8a-96b6-45128c9f7a94"
      },
      "execution_count": null,
      "outputs": [
        {
          "output_type": "execute_result",
          "data": {
            "text/plain": [
              "(151, 180, 320, 3)"
            ]
          },
          "metadata": {},
          "execution_count": 79
        }
      ]
    },
    {
      "cell_type": "code",
      "source": [
        "labels_int.shape"
      ],
      "metadata": {
        "colab": {
          "base_uri": "https://localhost:8080/"
        },
        "id": "tDqvfwa5FyyM",
        "outputId": "e6b392f3-db9c-40ee-c36d-f4cc779945b1"
      },
      "execution_count": null,
      "outputs": [
        {
          "output_type": "execute_result",
          "data": {
            "text/plain": [
              "(151,)"
            ]
          },
          "metadata": {},
          "execution_count": 80
        }
      ]
    },
    {
      "cell_type": "code",
      "source": [
        "images =images.reshape(151,172800)\n"
      ],
      "metadata": {
        "id": "ucYBQG4EF2I6"
      },
      "execution_count": null,
      "outputs": []
    },
    {
      "cell_type": "code",
      "source": [
        "test_pred = model.predict(images)\n",
        "test_pred"
      ],
      "metadata": {
        "colab": {
          "base_uri": "https://localhost:8080/"
        },
        "id": "Z9-NoX9XF9M5",
        "outputId": "21d9d461-c92e-4905-e297-a8701ba2b549"
      },
      "execution_count": null,
      "outputs": [
        {
          "output_type": "stream",
          "name": "stderr",
          "text": [
            "[Parallel(n_jobs=1)]: Using backend SequentialBackend with 1 concurrent workers.\n",
            "[Parallel(n_jobs=1)]: Done 1000 out of 1000 | elapsed:    0.1s finished\n"
          ]
        },
        {
          "output_type": "execute_result",
          "data": {
            "text/plain": [
              "array([0, 2, 2, 2, 2, 2, 2, 2, 2, 2, 1, 0, 2, 2, 0, 0, 2, 2, 2, 2, 2, 2,\n",
              "       2, 2, 2, 0, 2, 2, 2, 2, 2, 1, 2, 0, 0, 0, 2, 2, 0, 2, 2, 0, 2, 2,\n",
              "       2, 0, 2, 2, 2, 0, 2, 2, 2, 2, 2, 2, 2, 2, 2, 2, 2, 1, 1, 1, 2, 1,\n",
              "       2, 2, 1, 1, 1, 1, 3, 2, 3, 1, 1, 2, 1, 2, 1, 2, 2, 1, 1, 2, 1, 1,\n",
              "       1, 1, 2, 1, 3, 2, 1, 3, 1, 1, 3, 2, 1, 1, 1, 1, 2, 2, 2, 2, 3, 3,\n",
              "       3, 3, 2, 2, 3, 1, 2, 2, 2, 1, 1, 2, 1, 2, 1, 3, 1, 1, 3, 2, 2, 1,\n",
              "       1, 3, 2, 2, 1, 2, 2, 3, 2, 1, 1, 1, 1, 2, 3, 2, 2, 2, 3])"
            ]
          },
          "metadata": {},
          "execution_count": 82
        }
      ]
    },
    {
      "cell_type": "code",
      "source": [
        "from sklearn.metrics import accuracy_score,confusion_matrix,classification_report\n",
        "\n",
        "\n",
        "accuracy_score(test_pred,labels_int)\n",
        "print(classification_report(test_pred,labels_int))"
      ],
      "metadata": {
        "colab": {
          "base_uri": "https://localhost:8080/"
        },
        "id": "urxKsrHyGGWG",
        "outputId": "b3ba4885-c00b-4638-9082-cb289d7902e0"
      },
      "execution_count": null,
      "outputs": [
        {
          "output_type": "stream",
          "name": "stdout",
          "text": [
            "              precision    recall  f1-score   support\n",
            "\n",
            "           0       0.00      0.00      0.00        12\n",
            "           1       0.67      0.19      0.30        42\n",
            "           2       0.77      0.57      0.65        81\n",
            "           3       0.00      0.00      0.00        16\n",
            "\n",
            "    accuracy                           0.36       151\n",
            "   macro avg       0.36      0.19      0.24       151\n",
            "weighted avg       0.60      0.36      0.43       151\n",
            "\n"
          ]
        },
        {
          "output_type": "stream",
          "name": "stderr",
          "text": [
            "/usr/local/lib/python3.7/dist-packages/sklearn/metrics/_classification.py:1318: UndefinedMetricWarning: Precision and F-score are ill-defined and being set to 0.0 in labels with no predicted samples. Use `zero_division` parameter to control this behavior.\n",
            "  _warn_prf(average, modifier, msg_start, len(result))\n",
            "/usr/local/lib/python3.7/dist-packages/sklearn/metrics/_classification.py:1318: UndefinedMetricWarning: Precision and F-score are ill-defined and being set to 0.0 in labels with no predicted samples. Use `zero_division` parameter to control this behavior.\n",
            "  _warn_prf(average, modifier, msg_start, len(result))\n",
            "/usr/local/lib/python3.7/dist-packages/sklearn/metrics/_classification.py:1318: UndefinedMetricWarning: Precision and F-score are ill-defined and being set to 0.0 in labels with no predicted samples. Use `zero_division` parameter to control this behavior.\n",
            "  _warn_prf(average, modifier, msg_start, len(result))\n"
          ]
        }
      ]
    },
    {
      "cell_type": "code",
      "source": [
        "confusion_matrix(test_pred,labels_int)\n"
      ],
      "metadata": {
        "colab": {
          "base_uri": "https://localhost:8080/"
        },
        "id": "0oXh1DRsGP6j",
        "outputId": "eff5ecc2-3722-4d7f-807b-191995ba09ad"
      },
      "execution_count": null,
      "outputs": [
        {
          "output_type": "execute_result",
          "data": {
            "text/plain": [
              "array([[ 0,  0, 12,  0],\n",
              "       [32,  8,  2,  0],\n",
              "       [31,  4, 46,  0],\n",
              "       [16,  0,  0,  0]])"
            ]
          },
          "metadata": {},
          "execution_count": 84
        }
      ]
    },
    {
      "cell_type": "code",
      "source": [
        ""
      ],
      "metadata": {
        "id": "YUU_T1lUGzj3"
      },
      "execution_count": null,
      "outputs": []
    }
  ]
}